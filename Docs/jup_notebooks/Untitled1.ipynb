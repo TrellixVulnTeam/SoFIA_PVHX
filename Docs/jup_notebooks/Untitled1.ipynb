{
 "cells": [
  {
   "cell_type": "code",
   "execution_count": 1,
   "id": "entertaining-highway",
   "metadata": {},
   "outputs": [],
   "source": [
    "import numpy as np\n",
    "import matplotlib.pyplot as plt\n",
    "import scipy\n",
    "from scipy.optimize import minimize\n",
    "import seaborn as sns\n",
    "import pickle\n",
    "import json"
   ]
  },
  {
   "cell_type": "code",
   "execution_count": 2,
   "id": "molecular-visitor",
   "metadata": {},
   "outputs": [
    {
     "ename": "ImportError",
     "evalue": "Python version mismatch: module was compiled for Python 3.6, but the interpreter version is incompatible: 3.9.1 (default, Feb  3 2021, 07:04:15) \n[Clang 12.0.0 (clang-1200.0.32.29)].",
     "output_type": "error",
     "traceback": [
      "\u001b[0;31m---------------------------------------------------------------------------\u001b[0m",
      "\u001b[0;31mImportError\u001b[0m                               Traceback (most recent call last)",
      "\u001b[0;32m<ipython-input-2-28ea211e3789>\u001b[0m in \u001b[0;36m<module>\u001b[0;34m\u001b[0m\n\u001b[1;32m      5\u001b[0m \u001b[0;32mimport\u001b[0m \u001b[0msofia\u001b[0m\u001b[0;34m.\u001b[0m\u001b[0mdistributions\u001b[0m \u001b[0;32mas\u001b[0m \u001b[0mdist\u001b[0m\u001b[0;34m\u001b[0m\u001b[0;34m\u001b[0m\u001b[0m\n\u001b[1;32m      6\u001b[0m \u001b[0;31m# import sofia.data_assembly_cat as assemble\u001b[0m\u001b[0;34m\u001b[0m\u001b[0;34m\u001b[0m\u001b[0;34m\u001b[0m\u001b[0m\n\u001b[0;32m----> 7\u001b[0;31m \u001b[0;32mimport\u001b[0m \u001b[0mmutationpp\u001b[0m \u001b[0;32mas\u001b[0m \u001b[0mmpp\u001b[0m\u001b[0;34m\u001b[0m\u001b[0;34m\u001b[0m\u001b[0m\n\u001b[0m",
      "\u001b[0;32m/Library/Frameworks/Python.framework/Versions/3.6/lib/python3.6/site-packages/mutationpp-0.0.1-py3.6-macosx-10.6-intel.egg/mutationpp.cpython-36m-darwin.so\u001b[0m in \u001b[0;36m<module>\u001b[0;34m\u001b[0m\n",
      "\u001b[0;32m/Library/Frameworks/Python.framework/Versions/3.6/lib/python3.6/site-packages/mutationpp-0.0.1-py3.6-macosx-10.6-intel.egg/mutationpp.cpython-36m-darwin.so\u001b[0m in \u001b[0;36m__bootstrap__\u001b[0;34m()\u001b[0m\n",
      "\u001b[0;31mImportError\u001b[0m: Python version mismatch: module was compiled for Python 3.6, but the interpreter version is incompatible: 3.9.1 (default, Feb  3 2021, 07:04:15) \n[Clang 12.0.0 (clang-1200.0.32.29)]."
     ]
    }
   ],
   "source": [
    "import sys\n",
    "sys.path.append('../../installation/build/lib')\n",
    "sys.path.append('/Library/Frameworks/Python.framework/Versions/3.6/lib/python3.6/site-packages/mutationpp-0.0.1-py3.6-macosx-10.6-intel.egg')\n",
    "import sofia.sampler as mcmc\n",
    "import sofia.distributions as dist\n",
    "# import sofia.data_assembly_cat as assemble\n",
    "import mutationpp as mpp"
   ]
  },
  {
   "cell_type": "code",
   "execution_count": null,
   "id": "listed-sleep",
   "metadata": {},
   "outputs": [],
   "source": []
  }
 ],
 "metadata": {
  "kernelspec": {
   "display_name": "Python 3",
   "language": "python",
   "name": "python3"
  },
  "language_info": {
   "codemirror_mode": {
    "name": "ipython",
    "version": 3
   },
   "file_extension": ".py",
   "mimetype": "text/x-python",
   "name": "python",
   "nbconvert_exporter": "python",
   "pygments_lexer": "ipython3",
   "version": "3.9.1"
  }
 },
 "nbformat": 4,
 "nbformat_minor": 5
}
